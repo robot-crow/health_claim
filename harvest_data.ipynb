{
 "cells": [
  {
   "cell_type": "code",
   "execution_count": 1,
   "id": "de61f883",
   "metadata": {},
   "outputs": [],
   "source": [
    "import os\n",
    "import copy\n",
    "import zipfile\n",
    "import requests\n",
    "import json\n",
    "from io import BytesIO\n",
    "from tqdm.notebook import tqdm\n",
    "\n",
    "import pandas as pd\n",
    "import numpy as np\n",
    "import datetime as dt"
   ]
  },
  {
   "cell_type": "code",
   "execution_count": 2,
   "id": "1f03827c",
   "metadata": {},
   "outputs": [],
   "source": [
    "# there are 20 parts to the CMS medicare DESYNPUF public use files\n",
    "length = 20\n",
    "len_range = range(1,length+1)"
   ]
  },
  {
   "cell_type": "code",
   "execution_count": 3,
   "id": "4aac4d64",
   "metadata": {},
   "outputs": [],
   "source": [
    "# GCM means general claim model, the name for this bunch of pipelines & extras"
   ]
  },
  {
   "cell_type": "code",
   "execution_count": 4,
   "id": "173ce753",
   "metadata": {},
   "outputs": [],
   "source": [
    "# set up directories for pulling raw and GCM data (General Claims Model, name picked out of hat) \n",
    "cwd = os.getcwd() + '/'\n",
    "data_folder = 'data/'\n",
    "data_path = cwd + data_folder\n",
    "\n",
    "# raw path takes the downloaded and extracted raw csv files in a pre-named folder e.g \n",
    "# data/raw/beneficiary2008/DE1_0_2008_Beneficiary_Summary_File_Sample_1.csv\n",
    "raw_path = data_path + 'raw/'\n",
    "\n",
    "# 'proc' files e.g beneficiary2008.csv are dumped here after being assembled from data/raw\n",
    "gcm_path = data_path + 'gcm/'\n",
    "\n",
    "# model pickles are dumped here\n",
    "models_path = cwd + 'models/'\n",
    "\n",
    "if not os.path.exists(data_path):\n",
    "    os.mkdir(data_path)\n",
    "    \n",
    "if not os.path.exists(raw_path):\n",
    "    os.mkdir(raw_path)\n",
    "    \n",
    "if not os.path.exists(gcm_path):\n",
    "    os.mkdir(gcm_path)\n"
   ]
  },
  {
   "cell_type": "code",
   "execution_count": 5,
   "id": "eb769442",
   "metadata": {},
   "outputs": [],
   "source": [
    "# def gen_names(name):\n",
    "#     names_list = [name + str(i) for i in len_range]\n",
    "#     return names_list"
   ]
  },
  {
   "cell_type": "code",
   "execution_count": 6,
   "id": "a8594c3b",
   "metadata": {},
   "outputs": [],
   "source": [
    "def get_names_dict(data_sets):\n",
    "    names_dict = {}\n",
    "    # data_sets is a dict of folder keys and file name stub values. Get all of them from cms\n",
    "    for k, v in data_sets.items():\n",
    "        file_names = [v + str(i) for i in len_range]\n",
    "        # if used, carriers is split into A and B slices, e.g 11A, 11B. Complicates iteration\n",
    "        if k == 'carriers':\n",
    "            carriers = []\n",
    "            car_postfixes = ['A', 'B']\n",
    "            for name in file_names:\n",
    "                short = [name + postfix for postfix in car_postfixes]\n",
    "                carriers.extend(short)\n",
    "            file_names = carriers\n",
    "        # bug fix -file 1 is actually a copy of file 20\n",
    "        elif k == 'beneficiary2010':\n",
    "            if len(v) > 0:\n",
    "                file_names.pop(0)\n",
    "        names_dict[k] = file_names\n",
    "        \n",
    "    return names_dict"
   ]
  },
  {
   "cell_type": "code",
   "execution_count": 7,
   "id": "46f150bd",
   "metadata": {},
   "outputs": [],
   "source": [
    "def get_csv_names(names_dict):\n",
    "    # I need zip and csv names in dicts, where spelling errors are accounted for\n",
    "    csv_names_dict = copy.deepcopy(names_dict)\n",
    "    for k, v in csv_names_dict.items():\n",
    "        for i, name in enumerate(v):\n",
    "            if k == 'beneficiary2010':\n",
    "                # file 17 has a naming error\n",
    "                if name == 'DE1_0_2010_Beneficiary_Summary_File_Sample_17':\n",
    "                    v[i] = name + ' - Copy'\n",
    "        v = [name + '.csv' for name in v]\n",
    "        csv_names_dict[k] = v\n",
    "    return csv_names_dict"
   ]
  },
  {
   "cell_type": "code",
   "execution_count": 8,
   "id": "699ebe5e",
   "metadata": {},
   "outputs": [],
   "source": [
    "def get_zip_names(names_dict):\n",
    "    ext_url = 'http://downloads.cms.gov/files/'\n",
    "    base_url = 'https://www.cms.gov/Research-Statistics-Data-and-Systems/Downloadable-Public-Use-Files/SynPUFs/Downloads/'\n",
    "\n",
    "    # ensure zip name addresses for download are using the right URL as a base stub\n",
    "    zip_names_dict = copy.deepcopy(names_dict)\n",
    "    for k, v in zip_names_dict.items():\n",
    "        for i, name in enumerate(v):\n",
    "            if k == 'carriers':\n",
    "                    if name ==  'DE1_0_2008_to_2010_Carrier_Claims_Sample_11A':\n",
    "                        v[i] = name + '.csv'\n",
    "\n",
    "        if k == 'prescription' or k == 'carriers':\n",
    "            url = ext_url\n",
    "        else:\n",
    "            url = base_url\n",
    "\n",
    "        v = [url + name + '.zip' for name in v]\n",
    "        zip_names_dict[k] = v\n",
    "    return zip_names_dict"
   ]
  },
  {
   "cell_type": "code",
   "execution_count": 9,
   "id": "aa4c9555",
   "metadata": {},
   "outputs": [],
   "source": [
    "# I am going to download each zip, unpack the csvs to a folder in data/raw\n",
    "def output_raw_data(names_dict, csv_dict, zip_dict):\n",
    "    for k, v in names_dict.items():\n",
    "        # each key in names_dict itself holds a dict which contains te csv and zip download info\n",
    "        csv_names = csv_dict.get(k)\n",
    "        zip_names = zip_dict.get(k)\n",
    "        len_range = range(0,len(csv_names))\n",
    "\n",
    "        out_path = raw_path + k + '/'\n",
    "\n",
    "        if len(csv_names) > 0:\n",
    "            for j in tqdm(len_range,desc=k):\n",
    "\n",
    "                file_name = csv_names[j]\n",
    "                zip_file = zip_names[j]\n",
    "                data = pd.read_csv(zipfile.ZipFile(BytesIO(requests.get(zip_file).content)).open(file_name))\n",
    "                \n",
    "                data.to_csv(out_path + file_name, index=False)\n",
    "    "
   ]
  },
  {
   "cell_type": "code",
   "execution_count": 10,
   "id": "1071bd81",
   "metadata": {},
   "outputs": [],
   "source": [
    "# I exist to process prescription files in data/raw into GCM processed files\n",
    "def proc_presc_file(file_path):\n",
    "    cols = ['DESYNPUF_ID', 'PTNT_PAY_AMT', 'TOT_RX_CST_AMT']\n",
    "    data = pd.read_csv(file_path,usecols=cols)\n",
    "    \n",
    "    data = data.groupby(\n",
    "        ['DESYNPUF_ID'],as_index=False\n",
    "    ).agg(PTNT_PAY_AMT_total=('PTNT_PAY_AMT','sum'),\n",
    "            TOT_RX_CST_AMT_total=('TOT_RX_CST_AMT','sum'),\n",
    "            presc_num=('DESYNPUF_ID','size'),\n",
    "\n",
    "    )\n",
    "    return data"
   ]
  },
  {
   "cell_type": "code",
   "execution_count": 11,
   "id": "8ad7c615",
   "metadata": {},
   "outputs": [],
   "source": [
    "# on closer examination I do not understand the data well enough to reliably interpret line anount data\n",
    "# this is left here just in case\n",
    "\n",
    "# def proc_carriers_file(file_path, nch_amt, dgns_codes):\n",
    "#     cols = ['DESYNPUF_ID'] + nch_amt + dgns_codes  \n",
    "#     data = pd.read_csv(file_path,usecols=cols)\n",
    "    \n",
    "    \n",
    "#     data['LINE_NCH_PMT_AMT_sum'] = data[nch_amt].sum(axis=1)\n",
    "#     data['LINE_NCH_PMT_AMT_count'] = data[data[nch_amt] > 0].count(axis=1)\n",
    "#     data = data.drop(nch_amt,axis=1)\n",
    "\n",
    "#     data['ICD9_DGNS_CD_count'] = data[data[dgns_codes] != 0].count(axis=1)\n",
    "#     data = data.drop(dgns_codes,axis=1)\n",
    "    \n",
    "#     # this is an aggregation of ID records where each ID has multiple \"lines\"\n",
    "#     data = data.groupby(\n",
    "#         ['DESYNPUF_ID'],as_index=False\n",
    "#     ).agg(LINE_NCH_PMT_AMT_total=('LINE_NCH_PMT_AMT_sum','sum'),\n",
    "#          lines_num=('DESYNPUF_ID','size')\n",
    "          \n",
    "        \n",
    "#         )\n",
    "\n",
    "#     return data"
   ]
  },
  {
   "cell_type": "code",
   "execution_count": 12,
   "id": "5891b535",
   "metadata": {},
   "outputs": [],
   "source": [
    "# I take the data in data/raw/<folders> where appropriate, and concatenate/process for assembly into a \n",
    "#single csv for the actual models to use\n",
    "\n",
    "# folders below is a list of folders to look for, as they are named for the raw folder they are taken from \n",
    "# and dumped in data/gcm as 'proc' files, pre processed for assembly into final csv\n",
    "def raw_to_gcm(folders):\n",
    "    for folder in folders:\n",
    "        data = None\n",
    "        file_list = []\n",
    "        # gcm proc files eg beneficiary2008.csv are harvested in data/raw/beneficiary2008\n",
    "        # and then a file is dumped in the data/gcm folder which is a 'proc' file\n",
    "        for file in os.scandir(raw_path + folder):\n",
    "            if file.path.endswith('.csv'):\n",
    "                file_list.append(file.path) \n",
    "        if len(file_list) > 0:      \n",
    "\n",
    "            if 'beneficiary' in folder:\n",
    "                data = pd.concat([pd.read_csv(file_path) for file_path in file_list])\n",
    "            elif 'carriers' in folder:\n",
    "                nch_amt = ['LINE_NCH_PMT_AMT_' + str(i) for i in range(1,10)]\n",
    "                dgns_codes = ['ICD9_DGNS_CD_' + str(i) for i in range(1,9)]\n",
    "\n",
    "                data = pd.concat([proc_carriers_file(file_path, nch_amt, dgns_codes\n",
    "                                                    ) for file_path in file_list])\n",
    "            elif 'prescription' in folder:\n",
    "                data = pd.concat([proc_presc_file(file_path) for file_path in file_list])\n",
    "            elif 'patient' in folder:\n",
    "                cols = ['DESYNPUF_ID','CLM_PMT_AMT']\n",
    "                data = pd.concat([pd.read_csv(file_path, usecols=cols) for file_path in file_list])\n",
    "            \n",
    "            data.to_csv(gcm_path + folder + '.csv', index=False)\n"
   ]
  },
  {
   "cell_type": "code",
   "execution_count": 13,
   "id": "1364425c",
   "metadata": {},
   "outputs": [],
   "source": [
    "def proc_gcm_data(folders):\n",
    "    # less pythonic & automated but i need this control at the intermediate step\n",
    "    outpat_file = pd.read_csv(gcm_path + 'outpatient.csv')\n",
    "    outpat_file = outpat_file.rename(columns={'CLM_PMT_AMT' : 'OUTCLM_PMT_AMT'})\n",
    "\n",
    "    inpat_file = pd.read_csv(gcm_path + 'inpatient.csv')\n",
    "    inpat_file = inpat_file.rename(columns={'CLM_PMT_AMT' : 'INCLM_PMT_AMT'})\n",
    "    \n",
    "    patients = pd.concat([inpat_file, outpat_file]).fillna(0)\n",
    "    \n",
    "    patients = patients.groupby(['DESYNPUF_ID'],as_index=False).agg(\n",
    "            outpat_total_claimed=('OUTCLM_PMT_AMT','sum'),outpat_no_of_claims=('OUTCLM_PMT_AMT','count'),\n",
    "            inpat_total_claimed=('INCLM_PMT_AMT','sum'),inpat_no_of_claims=('INCLM_PMT_AMT','count'))\n",
    "\n",
    "    patients['claimed'] = 1   \n",
    "    \n",
    "    del inpat_file, outpat_file\n",
    "    \n",
    "    bene_list = [file.path for file in os.scandir(gcm_path) if 'beneficiary' in file.path]\n",
    "    bene = pd.concat([pd.read_csv(path) for path in bene_list])\n",
    "    bene = bene.drop(['PPPYMT_IP','PPPYMT_OP','MEDREIMB_CAR','BENRES_CAR','PPPYMT_CAR'],axis=1)\n",
    "    \n",
    "    data = bene.merge(patients,on='DESYNPUF_ID',how='left').fillna(0)\n",
    "    del bene\n",
    "\n",
    "#     we no longer need to process carriers due to a lack of insurance knowledge\n",
    "#     carriers = pd.read_csv(gcm_path + 'carriers.csv')\n",
    "#     data = data.merge(carriers,on='DESYNPUF_ID',how='left')\n",
    "#     del carriers\n",
    "    \n",
    "    presc = pd.read_csv(gcm_path + 'prescription.csv')\n",
    "    data = data.merge(presc,on='DESYNPUF_ID',how='left')\n",
    "    del presc\n",
    "    \n",
    "    data['total_claimed'] = data['inpat_total_claimed'] + data['outpat_total_claimed']\n",
    "    data['no_of_claims'] = data['inpat_no_of_claims'] + data['outpat_no_of_claims']\n",
    "    \n",
    "    data['claimed'] = data['claimed'].astype(int)\n",
    "\n",
    "    data.drop('BENE_ESRD_IND',axis=1,inplace=True)\n",
    "\n",
    "    data=data[(data['claimed'] == 1)|(data['BENE_DEATH_DT'] == 0)].reset_index(drop=True)\n",
    "    data.drop('BENE_DEATH_DT',axis=1,inplace=True)\n",
    "\n",
    "    data['BENE_BIRTH_DT'] =(dt.datetime.strptime(\n",
    "                            '20110101','%Y%m%d') - pd.to_datetime(data['BENE_BIRTH_DT']\n",
    "                                                                  ,format='%Y%m%d',errors='ignore')\n",
    "                           ).dt.days\n",
    "\n",
    "    data = data.rename(columns=rename_dict)\n",
    "\n",
    "    illnesses= ['alzheimers','heart_failure','kidney_disease','cancer',\n",
    "        'pulmonary_disease','depression','diabetes','ischemic_heart_disease',\n",
    "        'osteoporosis','arthritis','stroke']\n",
    "    data[illnesses] = data[illnesses].replace(2,0,regex=True)\n",
    "    \n",
    "    data['sex'] = data['sex'] - 1\n",
    "    \n",
    "    data['uw_illness_score'] = data[illnesses].sum(axis=1)/len(illnesses)\n",
    "    \n",
    "    data.to_csv(gcm_path + 'gcm_data.csv',index=False)"
   ]
  },
  {
   "cell_type": "code",
   "execution_count": 14,
   "id": "14ce8d31",
   "metadata": {},
   "outputs": [],
   "source": [
    "def clean_gcm():\n",
    "    for file in os.scandir(gcm_path):\n",
    "        if file.path.endswith('.csv') and not file.path.endswith('gcm_data.csv'):\n",
    "            os.remove(file)"
   ]
  },
  {
   "cell_type": "code",
   "execution_count": 15,
   "id": "2a6cd5d8",
   "metadata": {},
   "outputs": [],
   "source": [
    "rename_dict = {\n",
    "    'SP_ALZHDMTA':'alzheimers','SP_CHF':'heart_failure',\n",
    "    'SP_CHRNKIDN':'kidney_disease','SP_CNCR':'cancer',\n",
    "    'SP_COPD':'pulmonary_disease','SP_DEPRESSN':'depression',\n",
    "    'SP_DIABETES':'diabetes','SP_ISCHMCHT':'ischemic_heart_disease',\n",
    "    'SP_OSTEOPRS':'osteoporosis','SP_RA_OA':'arthritis','SP_STRKETIA':'stroke',\n",
    "    'BENE_SEX_IDENT_CD':'sex','BENE_RACE_CD':'race',\n",
    "    'SP_STATE_CODE':'state_code','BENE_COUNTY_CD':'county_code','BENE_BIRTH_DT':'age',\n",
    "    'BENE_HI_CVRAGE_TOT_MONS':'in_cover_dur','BENE_SMI_CVRAGE_TOT_MONS':'out_cover_dur',\n",
    "    'BENE_HMO_CVRAGE_TOT_MONS':'carrier_cover_dur','PLAN_CVRG_MOS_NUM':'drug_cover_dur',\n",
    "    'MEDREIMB_IP':'in_cover_amt','MEDREIMB_OP':'out_cover_amt',\n",
    "    'BENRES_IP':'in_excess_amt','BENRES_OP':'out_excess_amt'\n",
    "}\n",
    "\n",
    "data_sets = {'inpatient' : 'DE1_0_2008_to_2010_Inpatient_Claims_Sample_',\n",
    "             'outpatient' : 'DE1_0_2008_to_2010_Outpatient_Claims_Sample_',\n",
    "             'beneficiary2008' : 'DE1_0_2008_Beneficiary_Summary_File_Sample_',\n",
    "             'beneficiary2009' : 'DE1_0_2009_Beneficiary_Summary_File_Sample_',\n",
    "             'beneficiary2010' : 'DE1_0_2010_Beneficiary_Summary_File_Sample_',\n",
    "             'prescription' : 'DE1_0_2008_to_2010_Prescription_Drug_Events_Sample_'}\n",
    "\n",
    "for key in data_sets.keys():\n",
    "    out_path = raw_path + key\n",
    "    if not os.path.exists(out_path):\n",
    "        os.mkdir(out_path)  \n",
    "\n",
    "# This looks superflouous, and in a sense it is, however, the file names change in different places\n",
    "# at different times, and folder names as well as file names in 2 domains must be tracked.\n",
    "# the mutual references allow me to corrrect errors and link files, folders, and zips \n",
    "names_dict = get_names_dict(data_sets)\n",
    "csv_dict = get_csv_names(names_dict)\n",
    "zip_dict = get_zip_names(names_dict)\n",
    "\n",
    "# removed carriers\n",
    "folders = ['inpatient',\n",
    "          'outpatient',\n",
    "          'beneficiary2008',\n",
    "          'beneficiary2009',\n",
    "          'beneficiary2010',\n",
    "          'prescription']\n",
    "\n",
    "folders = [name for name in csv_dict.keys() if name in folders]"
   ]
  },
  {
   "cell_type": "code",
   "execution_count": 16,
   "id": "944b35e5",
   "metadata": {},
   "outputs": [
    {
     "data": {
      "application/vnd.jupyter.widget-view+json": {
       "model_id": "7667ee4efa3b46f8a53eead8258d77fc",
       "version_major": 2,
       "version_minor": 0
      },
      "text/plain": [
       "inpatient:   0%|          | 0/20 [00:00<?, ?it/s]"
      ]
     },
     "metadata": {},
     "output_type": "display_data"
    },
    {
     "data": {
      "application/vnd.jupyter.widget-view+json": {
       "model_id": "197ba8984caf41109da0abf8a69004f8",
       "version_major": 2,
       "version_minor": 0
      },
      "text/plain": [
       "outpatient:   0%|          | 0/20 [00:00<?, ?it/s]"
      ]
     },
     "metadata": {},
     "output_type": "display_data"
    },
    {
     "name": "stderr",
     "output_type": "stream",
     "text": [
      "C:\\Users\\Mickey Nine\\AppData\\Local\\Temp\\ipykernel_7716\\1599873184.py:16: DtypeWarning: Columns (21,23,24,25,26,27) have mixed types. Specify dtype option on import or set low_memory=False.\n",
      "  data = pd.read_csv(zipfile.ZipFile(BytesIO(requests.get(zip_file).content)).open(file_name))\n",
      "C:\\Users\\Mickey Nine\\AppData\\Local\\Temp\\ipykernel_7716\\1599873184.py:16: DtypeWarning: Columns (21,23,24,25,26,27) have mixed types. Specify dtype option on import or set low_memory=False.\n",
      "  data = pd.read_csv(zipfile.ZipFile(BytesIO(requests.get(zip_file).content)).open(file_name))\n",
      "C:\\Users\\Mickey Nine\\AppData\\Local\\Temp\\ipykernel_7716\\1599873184.py:16: DtypeWarning: Columns (21,23,24,25,26,27) have mixed types. Specify dtype option on import or set low_memory=False.\n",
      "  data = pd.read_csv(zipfile.ZipFile(BytesIO(requests.get(zip_file).content)).open(file_name))\n",
      "C:\\Users\\Mickey Nine\\AppData\\Local\\Temp\\ipykernel_7716\\1599873184.py:16: DtypeWarning: Columns (21,23,24,25,26,27) have mixed types. Specify dtype option on import or set low_memory=False.\n",
      "  data = pd.read_csv(zipfile.ZipFile(BytesIO(requests.get(zip_file).content)).open(file_name))\n",
      "C:\\Users\\Mickey Nine\\AppData\\Local\\Temp\\ipykernel_7716\\1599873184.py:16: DtypeWarning: Columns (21,23,24,25,26,27) have mixed types. Specify dtype option on import or set low_memory=False.\n",
      "  data = pd.read_csv(zipfile.ZipFile(BytesIO(requests.get(zip_file).content)).open(file_name))\n",
      "C:\\Users\\Mickey Nine\\AppData\\Local\\Temp\\ipykernel_7716\\1599873184.py:16: DtypeWarning: Columns (21,23,24,25,26,27) have mixed types. Specify dtype option on import or set low_memory=False.\n",
      "  data = pd.read_csv(zipfile.ZipFile(BytesIO(requests.get(zip_file).content)).open(file_name))\n",
      "C:\\Users\\Mickey Nine\\AppData\\Local\\Temp\\ipykernel_7716\\1599873184.py:16: DtypeWarning: Columns (23,24,25,26,27) have mixed types. Specify dtype option on import or set low_memory=False.\n",
      "  data = pd.read_csv(zipfile.ZipFile(BytesIO(requests.get(zip_file).content)).open(file_name))\n",
      "C:\\Users\\Mickey Nine\\AppData\\Local\\Temp\\ipykernel_7716\\1599873184.py:16: DtypeWarning: Columns (21,23,24,25,26,27) have mixed types. Specify dtype option on import or set low_memory=False.\n",
      "  data = pd.read_csv(zipfile.ZipFile(BytesIO(requests.get(zip_file).content)).open(file_name))\n",
      "C:\\Users\\Mickey Nine\\AppData\\Local\\Temp\\ipykernel_7716\\1599873184.py:16: DtypeWarning: Columns (21,23,24,25,26,27) have mixed types. Specify dtype option on import or set low_memory=False.\n",
      "  data = pd.read_csv(zipfile.ZipFile(BytesIO(requests.get(zip_file).content)).open(file_name))\n",
      "C:\\Users\\Mickey Nine\\AppData\\Local\\Temp\\ipykernel_7716\\1599873184.py:16: DtypeWarning: Columns (23,24,25,26,27) have mixed types. Specify dtype option on import or set low_memory=False.\n",
      "  data = pd.read_csv(zipfile.ZipFile(BytesIO(requests.get(zip_file).content)).open(file_name))\n",
      "C:\\Users\\Mickey Nine\\AppData\\Local\\Temp\\ipykernel_7716\\1599873184.py:16: DtypeWarning: Columns (23,24,25,26,27) have mixed types. Specify dtype option on import or set low_memory=False.\n",
      "  data = pd.read_csv(zipfile.ZipFile(BytesIO(requests.get(zip_file).content)).open(file_name))\n",
      "C:\\Users\\Mickey Nine\\AppData\\Local\\Temp\\ipykernel_7716\\1599873184.py:16: DtypeWarning: Columns (21,23,24,25,26,27) have mixed types. Specify dtype option on import or set low_memory=False.\n",
      "  data = pd.read_csv(zipfile.ZipFile(BytesIO(requests.get(zip_file).content)).open(file_name))\n",
      "C:\\Users\\Mickey Nine\\AppData\\Local\\Temp\\ipykernel_7716\\1599873184.py:16: DtypeWarning: Columns (21,23,24,25,26,27) have mixed types. Specify dtype option on import or set low_memory=False.\n",
      "  data = pd.read_csv(zipfile.ZipFile(BytesIO(requests.get(zip_file).content)).open(file_name))\n",
      "C:\\Users\\Mickey Nine\\AppData\\Local\\Temp\\ipykernel_7716\\1599873184.py:16: DtypeWarning: Columns (21,23,24,25,26,27) have mixed types. Specify dtype option on import or set low_memory=False.\n",
      "  data = pd.read_csv(zipfile.ZipFile(BytesIO(requests.get(zip_file).content)).open(file_name))\n",
      "C:\\Users\\Mickey Nine\\AppData\\Local\\Temp\\ipykernel_7716\\1599873184.py:16: DtypeWarning: Columns (21,23,24,25,26,27) have mixed types. Specify dtype option on import or set low_memory=False.\n",
      "  data = pd.read_csv(zipfile.ZipFile(BytesIO(requests.get(zip_file).content)).open(file_name))\n",
      "C:\\Users\\Mickey Nine\\AppData\\Local\\Temp\\ipykernel_7716\\1599873184.py:16: DtypeWarning: Columns (21,23,24,25,26,27) have mixed types. Specify dtype option on import or set low_memory=False.\n",
      "  data = pd.read_csv(zipfile.ZipFile(BytesIO(requests.get(zip_file).content)).open(file_name))\n",
      "C:\\Users\\Mickey Nine\\AppData\\Local\\Temp\\ipykernel_7716\\1599873184.py:16: DtypeWarning: Columns (21,23,24,25,26,27) have mixed types. Specify dtype option on import or set low_memory=False.\n",
      "  data = pd.read_csv(zipfile.ZipFile(BytesIO(requests.get(zip_file).content)).open(file_name))\n",
      "C:\\Users\\Mickey Nine\\AppData\\Local\\Temp\\ipykernel_7716\\1599873184.py:16: DtypeWarning: Columns (23,24,25,26,27) have mixed types. Specify dtype option on import or set low_memory=False.\n",
      "  data = pd.read_csv(zipfile.ZipFile(BytesIO(requests.get(zip_file).content)).open(file_name))\n",
      "C:\\Users\\Mickey Nine\\AppData\\Local\\Temp\\ipykernel_7716\\1599873184.py:16: DtypeWarning: Columns (23,24,25,26,27) have mixed types. Specify dtype option on import or set low_memory=False.\n",
      "  data = pd.read_csv(zipfile.ZipFile(BytesIO(requests.get(zip_file).content)).open(file_name))\n",
      "C:\\Users\\Mickey Nine\\AppData\\Local\\Temp\\ipykernel_7716\\1599873184.py:16: DtypeWarning: Columns (21,23,24,25,26,27) have mixed types. Specify dtype option on import or set low_memory=False.\n",
      "  data = pd.read_csv(zipfile.ZipFile(BytesIO(requests.get(zip_file).content)).open(file_name))\n"
     ]
    },
    {
     "data": {
      "application/vnd.jupyter.widget-view+json": {
       "model_id": "22e852cf9f854a8fa6008216791b8ba6",
       "version_major": 2,
       "version_minor": 0
      },
      "text/plain": [
       "beneficiary2008:   0%|          | 0/20 [00:00<?, ?it/s]"
      ]
     },
     "metadata": {},
     "output_type": "display_data"
    },
    {
     "data": {
      "application/vnd.jupyter.widget-view+json": {
       "model_id": "76dc3b7541724c1ab34bd7356c438fb1",
       "version_major": 2,
       "version_minor": 0
      },
      "text/plain": [
       "beneficiary2009:   0%|          | 0/20 [00:00<?, ?it/s]"
      ]
     },
     "metadata": {},
     "output_type": "display_data"
    },
    {
     "data": {
      "application/vnd.jupyter.widget-view+json": {
       "model_id": "9e526a685e74405cbc64aabbf8a36fc1",
       "version_major": 2,
       "version_minor": 0
      },
      "text/plain": [
       "beneficiary2010:   0%|          | 0/19 [00:00<?, ?it/s]"
      ]
     },
     "metadata": {},
     "output_type": "display_data"
    },
    {
     "data": {
      "application/vnd.jupyter.widget-view+json": {
       "model_id": "b3da0af076a34596a49c6b59d12ddd3f",
       "version_major": 2,
       "version_minor": 0
      },
      "text/plain": [
       "prescription:   0%|          | 0/20 [00:00<?, ?it/s]"
      ]
     },
     "metadata": {},
     "output_type": "display_data"
    },
    {
     "name": "stderr",
     "output_type": "stream",
     "text": [
      "C:\\Users\\Mickey Nine\\AppData\\Local\\Temp\\ipykernel_7716\\1599873184.py:16: DtypeWarning: Columns (3) have mixed types. Specify dtype option on import or set low_memory=False.\n",
      "  data = pd.read_csv(zipfile.ZipFile(BytesIO(requests.get(zip_file).content)).open(file_name))\n",
      "C:\\Users\\Mickey Nine\\AppData\\Local\\Temp\\ipykernel_7716\\1599873184.py:16: DtypeWarning: Columns (3) have mixed types. Specify dtype option on import or set low_memory=False.\n",
      "  data = pd.read_csv(zipfile.ZipFile(BytesIO(requests.get(zip_file).content)).open(file_name))\n",
      "C:\\Users\\Mickey Nine\\AppData\\Local\\Temp\\ipykernel_7716\\1599873184.py:16: DtypeWarning: Columns (3) have mixed types. Specify dtype option on import or set low_memory=False.\n",
      "  data = pd.read_csv(zipfile.ZipFile(BytesIO(requests.get(zip_file).content)).open(file_name))\n",
      "C:\\Users\\Mickey Nine\\AppData\\Local\\Temp\\ipykernel_7716\\1599873184.py:16: DtypeWarning: Columns (3) have mixed types. Specify dtype option on import or set low_memory=False.\n",
      "  data = pd.read_csv(zipfile.ZipFile(BytesIO(requests.get(zip_file).content)).open(file_name))\n",
      "C:\\Users\\Mickey Nine\\AppData\\Local\\Temp\\ipykernel_7716\\1599873184.py:16: DtypeWarning: Columns (3) have mixed types. Specify dtype option on import or set low_memory=False.\n",
      "  data = pd.read_csv(zipfile.ZipFile(BytesIO(requests.get(zip_file).content)).open(file_name))\n",
      "C:\\Users\\Mickey Nine\\AppData\\Local\\Temp\\ipykernel_7716\\1599873184.py:16: DtypeWarning: Columns (3) have mixed types. Specify dtype option on import or set low_memory=False.\n",
      "  data = pd.read_csv(zipfile.ZipFile(BytesIO(requests.get(zip_file).content)).open(file_name))\n",
      "C:\\Users\\Mickey Nine\\AppData\\Local\\Temp\\ipykernel_7716\\1599873184.py:16: DtypeWarning: Columns (3) have mixed types. Specify dtype option on import or set low_memory=False.\n",
      "  data = pd.read_csv(zipfile.ZipFile(BytesIO(requests.get(zip_file).content)).open(file_name))\n",
      "C:\\Users\\Mickey Nine\\AppData\\Local\\Temp\\ipykernel_7716\\1599873184.py:16: DtypeWarning: Columns (3) have mixed types. Specify dtype option on import or set low_memory=False.\n",
      "  data = pd.read_csv(zipfile.ZipFile(BytesIO(requests.get(zip_file).content)).open(file_name))\n",
      "C:\\Users\\Mickey Nine\\AppData\\Local\\Temp\\ipykernel_7716\\1599873184.py:16: DtypeWarning: Columns (3) have mixed types. Specify dtype option on import or set low_memory=False.\n",
      "  data = pd.read_csv(zipfile.ZipFile(BytesIO(requests.get(zip_file).content)).open(file_name))\n",
      "C:\\Users\\Mickey Nine\\AppData\\Local\\Temp\\ipykernel_7716\\1599873184.py:16: DtypeWarning: Columns (3) have mixed types. Specify dtype option on import or set low_memory=False.\n",
      "  data = pd.read_csv(zipfile.ZipFile(BytesIO(requests.get(zip_file).content)).open(file_name))\n",
      "C:\\Users\\Mickey Nine\\AppData\\Local\\Temp\\ipykernel_7716\\1599873184.py:16: DtypeWarning: Columns (3) have mixed types. Specify dtype option on import or set low_memory=False.\n",
      "  data = pd.read_csv(zipfile.ZipFile(BytesIO(requests.get(zip_file).content)).open(file_name))\n",
      "C:\\Users\\Mickey Nine\\AppData\\Local\\Temp\\ipykernel_7716\\1599873184.py:16: DtypeWarning: Columns (3) have mixed types. Specify dtype option on import or set low_memory=False.\n",
      "  data = pd.read_csv(zipfile.ZipFile(BytesIO(requests.get(zip_file).content)).open(file_name))\n",
      "C:\\Users\\Mickey Nine\\AppData\\Local\\Temp\\ipykernel_7716\\1599873184.py:16: DtypeWarning: Columns (3) have mixed types. Specify dtype option on import or set low_memory=False.\n",
      "  data = pd.read_csv(zipfile.ZipFile(BytesIO(requests.get(zip_file).content)).open(file_name))\n",
      "C:\\Users\\Mickey Nine\\AppData\\Local\\Temp\\ipykernel_7716\\1599873184.py:16: DtypeWarning: Columns (3) have mixed types. Specify dtype option on import or set low_memory=False.\n",
      "  data = pd.read_csv(zipfile.ZipFile(BytesIO(requests.get(zip_file).content)).open(file_name))\n",
      "C:\\Users\\Mickey Nine\\AppData\\Local\\Temp\\ipykernel_7716\\1599873184.py:16: DtypeWarning: Columns (3) have mixed types. Specify dtype option on import or set low_memory=False.\n",
      "  data = pd.read_csv(zipfile.ZipFile(BytesIO(requests.get(zip_file).content)).open(file_name))\n",
      "C:\\Users\\Mickey Nine\\AppData\\Local\\Temp\\ipykernel_7716\\1599873184.py:16: DtypeWarning: Columns (3) have mixed types. Specify dtype option on import or set low_memory=False.\n",
      "  data = pd.read_csv(zipfile.ZipFile(BytesIO(requests.get(zip_file).content)).open(file_name))\n",
      "C:\\Users\\Mickey Nine\\AppData\\Local\\Temp\\ipykernel_7716\\1599873184.py:16: DtypeWarning: Columns (3) have mixed types. Specify dtype option on import or set low_memory=False.\n",
      "  data = pd.read_csv(zipfile.ZipFile(BytesIO(requests.get(zip_file).content)).open(file_name))\n",
      "C:\\Users\\Mickey Nine\\AppData\\Local\\Temp\\ipykernel_7716\\1599873184.py:16: DtypeWarning: Columns (3) have mixed types. Specify dtype option on import or set low_memory=False.\n",
      "  data = pd.read_csv(zipfile.ZipFile(BytesIO(requests.get(zip_file).content)).open(file_name))\n",
      "C:\\Users\\Mickey Nine\\AppData\\Local\\Temp\\ipykernel_7716\\1599873184.py:16: DtypeWarning: Columns (3) have mixed types. Specify dtype option on import or set low_memory=False.\n",
      "  data = pd.read_csv(zipfile.ZipFile(BytesIO(requests.get(zip_file).content)).open(file_name))\n",
      "C:\\Users\\Mickey Nine\\AppData\\Local\\Temp\\ipykernel_7716\\1599873184.py:16: DtypeWarning: Columns (3) have mixed types. Specify dtype option on import or set low_memory=False.\n",
      "  data = pd.read_csv(zipfile.ZipFile(BytesIO(requests.get(zip_file).content)).open(file_name))\n"
     ]
    }
   ],
   "source": [
    "output_raw_data(names_dict, csv_dict, zip_dict)"
   ]
  },
  {
   "cell_type": "code",
   "execution_count": 17,
   "id": "85300832",
   "metadata": {},
   "outputs": [],
   "source": [
    "raw_to_gcm(folders)"
   ]
  },
  {
   "cell_type": "code",
   "execution_count": 18,
   "id": "4c4fe1f3",
   "metadata": {},
   "outputs": [],
   "source": [
    "proc_gcm_data(folders)"
   ]
  },
  {
   "cell_type": "code",
   "execution_count": 19,
   "id": "5bac600a",
   "metadata": {},
   "outputs": [],
   "source": [
    "# clean_gcm()"
   ]
  },
  {
   "cell_type": "code",
   "execution_count": null,
   "id": "a0830000",
   "metadata": {
    "scrolled": true
   },
   "outputs": [],
   "source": []
  },
  {
   "cell_type": "code",
   "execution_count": null,
   "id": "20eefedc",
   "metadata": {},
   "outputs": [],
   "source": []
  },
  {
   "cell_type": "code",
   "execution_count": null,
   "id": "532b9f06",
   "metadata": {},
   "outputs": [],
   "source": []
  },
  {
   "cell_type": "code",
   "execution_count": null,
   "id": "6880945d",
   "metadata": {},
   "outputs": [],
   "source": []
  }
 ],
 "metadata": {
  "kernelspec": {
   "display_name": "Python 3 (ipykernel)",
   "language": "python",
   "name": "python3"
  },
  "language_info": {
   "codemirror_mode": {
    "name": "ipython",
    "version": 3
   },
   "file_extension": ".py",
   "mimetype": "text/x-python",
   "name": "python",
   "nbconvert_exporter": "python",
   "pygments_lexer": "ipython3",
   "version": "3.10.0"
  }
 },
 "nbformat": 4,
 "nbformat_minor": 5
}
