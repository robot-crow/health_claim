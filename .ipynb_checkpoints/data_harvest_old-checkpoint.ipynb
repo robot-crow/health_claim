{
 "cells": [
  {
   "cell_type": "code",
   "execution_count": 1,
   "id": "3bf31a7c",
   "metadata": {},
   "outputs": [],
   "source": [
    "import zipfile\n",
    "import requests\n",
    "import json\n",
    "from io import BytesIO\n",
    "from tqdm.notebook import tqdm\n",
    "\n",
    "import pandas as pd\n",
    "import numpy as np\n",
    "import datetime as dt"
   ]
  },
  {
   "cell_type": "code",
   "execution_count": 2,
   "id": "d670ee8b",
   "metadata": {},
   "outputs": [],
   "source": [
    "base_url='https://www.cms.gov/Research-Statistics-Data-and-Systems/Downloadable-Public-Use-Files/SynPUFs/Downloads/'\n",
    "\n",
    "def cms_csv(file_no,file_name):\n",
    "    url = base_url\n",
    "    \n",
    "    url += file_name + str(file_no) + '.zip'\n",
    "    file_name = file_name+str(file_no)+'.csv'\n",
    "    \n",
    "    if 'Beneficiary' in file_name:\n",
    "        csv = pd.read_csv(zipfile.ZipFile(BytesIO(requests.get(url).content)).open(file_name))\n",
    "    else:\n",
    "        csv = pd.read_csv(zipfile.ZipFile(BytesIO(requests.get(url).content)).open(file_name),\n",
    "                         usecols = ['DESYNPUF_ID','CLM_PMT_AMT'])\n",
    "        \n",
    "    return csv"
   ]
  },
  {
   "cell_type": "code",
   "execution_count": 3,
   "id": "69fe564c",
   "metadata": {},
   "outputs": [],
   "source": [
    "def get_raw_data(no_files):\n",
    "    data = pd.concat([cms_csv(file_no,'DE1_0_2008_to_2010_Outpatient_Claims_Sample_'\n",
    "                             ) for file_no in tqdm(range(1,no_files+1),desc='outpatient data')])\n",
    "    data.to_csv('data/outpatient.csv',index=False)\n",
    "    del data   \n",
    "    \n",
    "    data = pd.concat([cms_csv(file_no,\n",
    "                              'DE1_0_2008_Beneficiary_Summary_File_Sample_'\n",
    "                             ) for file_no in tqdm(range(1,no_files+1),desc='beneficiary data')])\n",
    "    \n",
    "    data.to_csv('data/beneficiary.csv',index=False)\n",
    "    del data\n",
    "    \n",
    "    data = pd.concat([cms_csv(file_no,'DE1_0_2008_to_2010_Inpatient_Claims_Sample_'\n",
    "                             ) for file_no in tqdm(range(1,no_files+1),desc='inpatient data')])\n",
    "    data.to_csv('data/inpatient.csv',index=False)\n",
    "    del data   "
   ]
  },
  {
   "cell_type": "code",
   "execution_count": 4,
   "id": "18011621",
   "metadata": {},
   "outputs": [],
   "source": [
    "def wrangle_raw_data():\n",
    "    bene_file = pd.read_csv('data/beneficiary.csv')\n",
    "    claim_file = pd.concat([pd.read_csv('data/inpatient.csv',usecols=['DESYNPUF_ID','CLM_PMT_AMT']),\n",
    "                         pd.read_csv('data/outpatient.csv',usecols=['DESYNPUF_ID','CLM_PMT_AMT'])\n",
    "                         ])\n",
    "    \n",
    "    claim_file = claim_file[claim_file['CLM_PMT_AMT'] > 0].reset_index(drop=True)\n",
    "    \n",
    "    claim_file = claim_file.groupby(['DESYNPUF_ID'],as_index=False).agg(\n",
    "                    total_claimed=('CLM_PMT_AMT','sum'),no_of_claims=('CLM_PMT_AMT','count'))\n",
    "    claim_file['claimed'] = 1\n",
    "    \n",
    "    def join_claims(claim_file):\n",
    "        data = bene_file.merge(claim_file,on='DESYNPUF_ID',how='left').fillna(0)\n",
    "        data['claimed'] = data['claimed'].astype(bool)\n",
    "        \n",
    "        for col in data.columns:\n",
    "            if data[col].isin([2,1]).min() == True:\n",
    "                data[col].replace(2,0,inplace=True)\n",
    "            \n",
    "        data.drop('BENE_ESRD_IND',axis=1,inplace=True)\n",
    "        \n",
    "        data=data[(data['claimed'] == 1)|(data['BENE_DEATH_DT'] == 0)].reset_index(drop=True)\n",
    "        data.drop('BENE_DEATH_DT',axis=1,inplace=True)\n",
    "        \n",
    "        data['BENE_BIRTH_DT'] =(dt.datetime.strptime(\n",
    "                                '20080101','%Y%m%d') - pd.to_datetime(\n",
    "                                data['BENE_BIRTH_DT'],format='%Y%m%d',errors='ignore')).dt.days\n",
    "        \n",
    "        data = data.rename(columns={\n",
    "            'SP_ALZHDMTA':'alzheimers','SP_CHF':'heart_failure',\n",
    "            'SP_CHRNKIDN':'kidney_disease','SP_CNCR':'cancer',\n",
    "            'SP_COPD':'pulmonary_disease','SP_DEPRESSN':'depression',\n",
    "            'SP_DIABETES':'diabetes','SP_ISCHMCHT':'ischemic_heart_disease',\n",
    "            'SP_OSTEOPRS':'osteoporosis','SP_RA_OA':'arthritis','SP_STRKETIA':'stroke',\n",
    "            'DESYNPUF_ID':'patient_ID','BENE_SEX_IDENT_CD':'sex','BENE_RACE_CD':'race',\n",
    "            'SP_STATE_CODE':'state_code','BENE_COUNTY_CD':'county_code','BENE_BIRTH_DT':'age',\n",
    "            'BENE_HI_CVRAGE_TOT_MONS':'in_cover_dur','BENE_SMI_CVRAGE_TOT_MONS':'out_cover_dur',\n",
    "            'BENE_HMO_CVRAGE_TOT_MONS':'carrier_cover_dur','PLAN_CVRG_MOS_NUM':'drug_cover_dur',\n",
    "            'MEDREIMB_IP':'in_cover_amt','MEDREIMB_OP':'out_cover_amt',\n",
    "            'BENRES_IP':'in_excess_amt','BENRES_OP':'out_excess_amt'\n",
    "        })\n",
    "        \n",
    "        illness_list = ['alzheimers','heart_failure','kidney_disease','cancer',\n",
    "                        'pulmonary_disease','depression','diabetes','ischemic_heart_disease',\n",
    "                        'osteoporosis','arthritis','stroke']\n",
    "        \n",
    "        data['uw_illness_score'] = data[illness_list].sum(axis=1)/len(illness_list)\n",
    "        \n",
    "        return data\n",
    "    \n",
    "    join_claims(claim_file).to_csv('data/health_data.csv',index=False)"
   ]
  },
  {
   "cell_type": "code",
   "execution_count": 5,
   "id": "3e28c7de",
   "metadata": {},
   "outputs": [
    {
     "data": {
      "application/vnd.jupyter.widget-view+json": {
       "model_id": "64aa031546264c109f2431e12c75677b",
       "version_major": 2,
       "version_minor": 0
      },
      "text/plain": [
       "outpatient data:   0%|          | 0/20 [00:00<?, ?it/s]"
      ]
     },
     "metadata": {},
     "output_type": "display_data"
    },
    {
     "data": {
      "application/vnd.jupyter.widget-view+json": {
       "model_id": "b4f25c385f764052a0532ff4499a4457",
       "version_major": 2,
       "version_minor": 0
      },
      "text/plain": [
       "beneficiary data:   0%|          | 0/20 [00:00<?, ?it/s]"
      ]
     },
     "metadata": {},
     "output_type": "display_data"
    },
    {
     "data": {
      "application/vnd.jupyter.widget-view+json": {
       "model_id": "dbf7c44129fb458989c3d1df51d9b7ae",
       "version_major": 2,
       "version_minor": 0
      },
      "text/plain": [
       "inpatient data:   0%|          | 0/20 [00:00<?, ?it/s]"
      ]
     },
     "metadata": {},
     "output_type": "display_data"
    }
   ],
   "source": [
    "get_raw_data(20)\n"
   ]
  },
  {
   "cell_type": "code",
   "execution_count": 6,
   "id": "b99f54c8",
   "metadata": {},
   "outputs": [],
   "source": [
    "wrangle_raw_data()"
   ]
  },
  {
   "cell_type": "code",
   "execution_count": null,
   "id": "2817c1ee",
   "metadata": {},
   "outputs": [],
   "source": []
  },
  {
   "cell_type": "code",
   "execution_count": null,
   "id": "200d82f9",
   "metadata": {},
   "outputs": [],
   "source": []
  },
  {
   "cell_type": "code",
   "execution_count": null,
   "id": "d3a315b7",
   "metadata": {},
   "outputs": [],
   "source": []
  },
  {
   "cell_type": "code",
   "execution_count": null,
   "id": "456896f5",
   "metadata": {},
   "outputs": [],
   "source": []
  },
  {
   "cell_type": "code",
   "execution_count": null,
   "id": "6efd3f5c",
   "metadata": {},
   "outputs": [],
   "source": []
  },
  {
   "cell_type": "code",
   "execution_count": null,
   "id": "04c7175d",
   "metadata": {},
   "outputs": [],
   "source": []
  },
  {
   "cell_type": "code",
   "execution_count": null,
   "id": "a36b692f",
   "metadata": {},
   "outputs": [],
   "source": []
  },
  {
   "cell_type": "code",
   "execution_count": null,
   "id": "8dd2e9c6",
   "metadata": {},
   "outputs": [],
   "source": []
  },
  {
   "cell_type": "code",
   "execution_count": null,
   "id": "58ee4dae",
   "metadata": {},
   "outputs": [],
   "source": []
  },
  {
   "cell_type": "code",
   "execution_count": null,
   "id": "3f5ebac6",
   "metadata": {},
   "outputs": [],
   "source": []
  }
 ],
 "metadata": {
  "kernelspec": {
   "display_name": "Python 3 (ipykernel)",
   "language": "python",
   "name": "python3"
  },
  "language_info": {
   "codemirror_mode": {
    "name": "ipython",
    "version": 3
   },
   "file_extension": ".py",
   "mimetype": "text/x-python",
   "name": "python",
   "nbconvert_exporter": "python",
   "pygments_lexer": "ipython3",
   "version": "3.10.0"
  }
 },
 "nbformat": 4,
 "nbformat_minor": 5
}
